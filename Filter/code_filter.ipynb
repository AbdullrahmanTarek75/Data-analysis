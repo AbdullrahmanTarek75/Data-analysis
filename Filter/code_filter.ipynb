{
  "nbformat": 4,
  "nbformat_minor": 0,
  "metadata": {
    "colab": {
      "provenance": []
    },
    "kernelspec": {
      "name": "python3",
      "display_name": "Python 3"
    },
    "language_info": {
      "name": "python"
    }
  },
  "cells": [
    {
      "cell_type": "code",
      "execution_count": null,
      "metadata": {
        "id": "Vr_dsPjuFXKf"
      },
      "outputs": [],
      "source": [
        "!pip install gradio"
      ]
    },
    {
      "cell_type": "code",
      "source": [
        "import numpy as np\n",
        "import gradio as gr\n",
        "\n",
        "def sepia(input_img):\n",
        "    sepia_filter = np.array([\n",
        "        [0.393, 0.769, 0.189],\n",
        "        [0.349, 0.686, 0.168],\n",
        "        [0.272, 0.534, 0.131]\n",
        "    ])\n",
        "    sepia_img = input_img.dot(sepia_filter.T)\n",
        "    sepia_img /= sepia_img.max()\n",
        "    return sepia_img\n",
        "\n",
        "\n",
        "demo = gr.Interface(\n",
        "    fn=sepia,\n",
        "    inputs = gr.Image(),\n",
        "    outputs = \"image\")\n",
        "\n",
        "demo.launch(debug=True)"
      ],
      "metadata": {
        "id": "NVehzksYFc7g"
      },
      "execution_count": null,
      "outputs": []
    }
  ]
}